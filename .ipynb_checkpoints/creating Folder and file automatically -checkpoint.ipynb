{
 "cells": [
  {
   "cell_type": "code",
   "execution_count": 17,
   "id": "ca05b058",
   "metadata": {},
   "outputs": [],
   "source": [
    "import os\n",
    "folder=[\"AK\", \"AL\",  \"MO\",  \"MT\",\"AZ\",  \"NE\",\"AR\",  \"NV\",\"CA\",\"NH\",\"CO\",\"NJ\",\"CT\" ,\"NM\", \"DE\", \"NY\", \"NC\",\n",
    "         \"FL\",\"ND\",\"GA\",\"OH\", \"HI\", \"OK\",\"ID\", \"OR\",\"IL\",\"PA\",\"IN\",\"RI\",\"IA\" ,\"SC\",\"KS\",\"SD\",\"KY\",  \"TN\", \"LA\",  \"TX\", \"ME\",\n",
    "         \"UT\", \"MD\",  \"VT\", \"MA\" , \"VA\", \"MI\",  \"WA\", \"MN\" ,  \"WV\", \"MS\",  \"WI\",\"WY\"]\n",
    "    \n",
    "for x in folder:\n",
    "    path=f\"C:/Users/danis/Desktop/new/{x}\"\n",
    "    os.makedirs(path)  #create automatically directory using os library in Python    "
   ]
  },
  {
   "cell_type": "code",
   "execution_count": 18,
   "id": "6913989a",
   "metadata": {},
   "outputs": [],
   "source": [
    "import csv\n",
    "for x in folder:\n",
    "    f = open(f'C:/Users/danis/Desktop/new/AK/{x}.CSV', 'w')\n",
    "    writer = csv.writer(f)\n",
    "    f.close()   # create automatically CSV file using CSV library in Pythonn"
   ]
  },
  {
   "cell_type": "code",
   "execution_count": 11,
   "id": "06ba831a",
   "metadata": {},
   "outputs": [],
   "source": [
    "\n"
   ]
  },
  {
   "cell_type": "code",
   "execution_count": null,
   "id": "7577211f",
   "metadata": {},
   "outputs": [],
   "source": []
  },
  {
   "cell_type": "code",
   "execution_count": 14,
   "id": "3d39e3cb",
   "metadata": {},
   "outputs": [],
   "source": []
  },
  {
   "cell_type": "code",
   "execution_count": null,
   "id": "e44b83a3",
   "metadata": {},
   "outputs": [],
   "source": []
  }
 ],
 "metadata": {
  "kernelspec": {
   "display_name": "Python 3 (ipykernel)",
   "language": "python",
   "name": "python3"
  },
  "language_info": {
   "codemirror_mode": {
    "name": "ipython",
    "version": 3
   },
   "file_extension": ".py",
   "mimetype": "text/x-python",
   "name": "python",
   "nbconvert_exporter": "python",
   "pygments_lexer": "ipython3",
   "version": "3.10.1"
  }
 },
 "nbformat": 4,
 "nbformat_minor": 5
}
